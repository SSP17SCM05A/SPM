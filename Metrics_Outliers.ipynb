{
 "cells": [
  {
   "cell_type": "markdown",
   "metadata": {},
   "source": [
    "# Discover patterns of potentially useful outliers in a given dataset of issues"
   ]
  },
  {
   "cell_type": "markdown",
   "metadata": {},
   "source": [
    "### Data Set File:  issues.csv"
   ]
  },
  {
   "cell_type": "code",
   "execution_count": 3,
   "metadata": {
    "collapsed": false
   },
   "outputs": [],
   "source": [
    "import os\n",
    "\n",
    "import cPickle as pickle\n",
    "\n",
    "import pandas as pd                                    # panda's nickname is pd\n",
    "\n",
    "import numpy as np                                     # numpy as np\n",
    "\n",
    "from pandas import DataFrame, Series                   # for convenience\n",
    "\n",
    "import matplotlib.pyplot as plt\n",
    "\n",
    "from datetime import date\n",
    "\n",
    "%matplotlib inline\n",
    "\n"
   ]
  },
  {
   "cell_type": "markdown",
   "metadata": {},
   "source": [
    "## Load the issues.csv file into a dataframe object"
   ]
  },
  {
   "cell_type": "code",
   "execution_count": 4,
   "metadata": {
    "collapsed": false
   },
   "outputs": [],
   "source": [
    "################################################################\n",
    "#############   Read Dataset of issues from CSV File ###########\n",
    "################################################################\n",
    "\n",
    "issues_df = pd.read_csv('issues.csv')"
   ]
  },
  {
   "cell_type": "code",
   "execution_count": 5,
   "metadata": {
    "collapsed": false
   },
   "outputs": [
    {
     "data": {
      "text/html": [
       "<div>\n",
       "<table border=\"1\" class=\"dataframe\">\n",
       "  <thead>\n",
       "    <tr style=\"text-align: right;\">\n",
       "      <th></th>\n",
       "      <th>﻿Issue #</th>\n",
       "      <th>OriginationPhase</th>\n",
       "      <th>DetectionPhase</th>\n",
       "      <th>Category</th>\n",
       "      <th>Priority</th>\n",
       "      <th>Status</th>\n",
       "      <th>Created_at</th>\n",
       "      <th>Closed_at</th>\n",
       "      <th>Author</th>\n",
       "    </tr>\n",
       "  </thead>\n",
       "  <tbody>\n",
       "    <tr>\n",
       "      <th>0</th>\n",
       "      <td>1</td>\n",
       "      <td>Requirements</td>\n",
       "      <td>Coding</td>\n",
       "      <td>Bug</td>\n",
       "      <td>Critical</td>\n",
       "      <td>Approved</td>\n",
       "      <td>2/24/2017</td>\n",
       "      <td>NaN</td>\n",
       "      <td>Smith</td>\n",
       "    </tr>\n",
       "    <tr>\n",
       "      <th>1</th>\n",
       "      <td>2</td>\n",
       "      <td>Design</td>\n",
       "      <td>Testing</td>\n",
       "      <td>Enhancement</td>\n",
       "      <td>High</td>\n",
       "      <td>Approved</td>\n",
       "      <td>2/25/2017</td>\n",
       "      <td>NaN</td>\n",
       "      <td>Roy</td>\n",
       "    </tr>\n",
       "    <tr>\n",
       "      <th>2</th>\n",
       "      <td>3</td>\n",
       "      <td>Requirements</td>\n",
       "      <td>Design</td>\n",
       "      <td>Inquiry</td>\n",
       "      <td>Low</td>\n",
       "      <td>Rejected</td>\n",
       "      <td>2/26/2017</td>\n",
       "      <td>3/7/2017</td>\n",
       "      <td>Linda</td>\n",
       "    </tr>\n",
       "    <tr>\n",
       "      <th>3</th>\n",
       "      <td>4</td>\n",
       "      <td>Testing</td>\n",
       "      <td>Field</td>\n",
       "      <td>Bug</td>\n",
       "      <td>High</td>\n",
       "      <td>Completed</td>\n",
       "      <td>2/27/2017</td>\n",
       "      <td>3/8/2017</td>\n",
       "      <td>Kim</td>\n",
       "    </tr>\n",
       "    <tr>\n",
       "      <th>4</th>\n",
       "      <td>5</td>\n",
       "      <td>Documentation</td>\n",
       "      <td>Field</td>\n",
       "      <td>Enhancement</td>\n",
       "      <td>Major</td>\n",
       "      <td>pendingReview</td>\n",
       "      <td>2/28/2017</td>\n",
       "      <td>NaN</td>\n",
       "      <td>James</td>\n",
       "    </tr>\n",
       "  </tbody>\n",
       "</table>\n",
       "</div>"
      ],
      "text/plain": [
       "   ﻿Issue # OriginationPhase DetectionPhase     Category  Priority  \\\n",
       "0         1     Requirements         Coding          Bug  Critical   \n",
       "1         2           Design        Testing  Enhancement      High   \n",
       "2         3     Requirements         Design      Inquiry       Low   \n",
       "3         4          Testing          Field          Bug      High   \n",
       "4         5    Documentation          Field  Enhancement     Major   \n",
       "\n",
       "          Status Created_at Closed_at Author  \n",
       "0       Approved  2/24/2017       NaN  Smith  \n",
       "1       Approved  2/25/2017       NaN    Roy  \n",
       "2       Rejected  2/26/2017  3/7/2017  Linda  \n",
       "3      Completed  2/27/2017  3/8/2017    Kim  \n",
       "4  pendingReview  2/28/2017       NaN  James  "
      ]
     },
     "execution_count": 5,
     "metadata": {},
     "output_type": "execute_result"
    }
   ],
   "source": [
    "# Sanity test we have good data\n",
    "\n",
    "issues_df.head()"
   ]
  },
  {
   "cell_type": "code",
   "execution_count": 6,
   "metadata": {
    "collapsed": false
   },
   "outputs": [
    {
     "data": {
      "text/plain": [
       "0    2/24/2017\n",
       "Name: Created_at, dtype: object"
      ]
     },
     "execution_count": 6,
     "metadata": {},
     "output_type": "execute_result"
    }
   ],
   "source": [
    "issues_df.Created_at[:1]"
   ]
  },
  {
   "cell_type": "markdown",
   "metadata": {},
   "source": [
    "## Data Wrangling and Munging to deal with dtype objects\n"
   ]
  },
  {
   "cell_type": "code",
   "execution_count": 7,
   "metadata": {
    "collapsed": false
   },
   "outputs": [],
   "source": [
    "# Data Wrangling and Munging\n",
    "\n",
    "issues_df['Created_at']=pd.to_datetime(issues_df['Created_at'])\n",
    "\n",
    "issues_df['Closed_at']=pd.to_datetime(issues_df['Closed_at'])"
   ]
  },
  {
   "cell_type": "code",
   "execution_count": 8,
   "metadata": {
    "collapsed": false
   },
   "outputs": [
    {
     "data": {
      "text/plain": [
       "pandas.tslib.Timestamp"
      ]
     },
     "execution_count": 8,
     "metadata": {},
     "output_type": "execute_result"
    }
   ],
   "source": [
    "\n",
    "x = issues_df['Created_at'][1]\n",
    "\n",
    "type(x)\n"
   ]
  },
  {
   "cell_type": "code",
   "execution_count": 9,
   "metadata": {
    "collapsed": false
   },
   "outputs": [
    {
     "data": {
      "text/plain": [
       "Timestamp('2017-02-25 00:00:00')"
      ]
     },
     "execution_count": 9,
     "metadata": {},
     "output_type": "execute_result"
    }
   ],
   "source": [
    "x"
   ]
  },
  {
   "cell_type": "code",
   "execution_count": 10,
   "metadata": {
    "collapsed": false
   },
   "outputs": [
    {
     "name": "stdout",
     "output_type": "stream",
     "text": [
      "2017 - 2 - 25\n"
     ]
    }
   ],
   "source": [
    "print x.year,'-', x.month , '-' , x.day\n"
   ]
  },
  {
   "cell_type": "code",
   "execution_count": 11,
   "metadata": {
    "collapsed": false
   },
   "outputs": [
    {
     "data": {
      "text/html": [
       "<div>\n",
       "<table border=\"1\" class=\"dataframe\">\n",
       "  <thead>\n",
       "    <tr style=\"text-align: right;\">\n",
       "      <th></th>\n",
       "      <th>﻿Issue #</th>\n",
       "      <th>OriginationPhase</th>\n",
       "      <th>DetectionPhase</th>\n",
       "      <th>Category</th>\n",
       "      <th>Priority</th>\n",
       "      <th>Status</th>\n",
       "      <th>Created_at</th>\n",
       "      <th>Closed_at</th>\n",
       "      <th>Author</th>\n",
       "    </tr>\n",
       "  </thead>\n",
       "  <tbody>\n",
       "    <tr>\n",
       "      <th>0</th>\n",
       "      <td>1</td>\n",
       "      <td>Requirements</td>\n",
       "      <td>Coding</td>\n",
       "      <td>Bug</td>\n",
       "      <td>Critical</td>\n",
       "      <td>Approved</td>\n",
       "      <td>2017-02-24</td>\n",
       "      <td>NaT</td>\n",
       "      <td>Smith</td>\n",
       "    </tr>\n",
       "    <tr>\n",
       "      <th>1</th>\n",
       "      <td>2</td>\n",
       "      <td>Design</td>\n",
       "      <td>Testing</td>\n",
       "      <td>Enhancement</td>\n",
       "      <td>High</td>\n",
       "      <td>Approved</td>\n",
       "      <td>2017-02-25</td>\n",
       "      <td>NaT</td>\n",
       "      <td>Roy</td>\n",
       "    </tr>\n",
       "    <tr>\n",
       "      <th>2</th>\n",
       "      <td>3</td>\n",
       "      <td>Requirements</td>\n",
       "      <td>Design</td>\n",
       "      <td>Inquiry</td>\n",
       "      <td>Low</td>\n",
       "      <td>Rejected</td>\n",
       "      <td>2017-02-26</td>\n",
       "      <td>2017-03-07</td>\n",
       "      <td>Linda</td>\n",
       "    </tr>\n",
       "    <tr>\n",
       "      <th>3</th>\n",
       "      <td>4</td>\n",
       "      <td>Testing</td>\n",
       "      <td>Field</td>\n",
       "      <td>Bug</td>\n",
       "      <td>High</td>\n",
       "      <td>Completed</td>\n",
       "      <td>2017-02-27</td>\n",
       "      <td>2017-03-08</td>\n",
       "      <td>Kim</td>\n",
       "    </tr>\n",
       "    <tr>\n",
       "      <th>4</th>\n",
       "      <td>5</td>\n",
       "      <td>Documentation</td>\n",
       "      <td>Field</td>\n",
       "      <td>Enhancement</td>\n",
       "      <td>Major</td>\n",
       "      <td>pendingReview</td>\n",
       "      <td>2017-02-28</td>\n",
       "      <td>NaT</td>\n",
       "      <td>James</td>\n",
       "    </tr>\n",
       "  </tbody>\n",
       "</table>\n",
       "</div>"
      ],
      "text/plain": [
       "   ﻿Issue # OriginationPhase DetectionPhase     Category  Priority  \\\n",
       "0         1     Requirements         Coding          Bug  Critical   \n",
       "1         2           Design        Testing  Enhancement      High   \n",
       "2         3     Requirements         Design      Inquiry       Low   \n",
       "3         4          Testing          Field          Bug      High   \n",
       "4         5    Documentation          Field  Enhancement     Major   \n",
       "\n",
       "          Status Created_at  Closed_at Author  \n",
       "0       Approved 2017-02-24        NaT  Smith  \n",
       "1       Approved 2017-02-25        NaT    Roy  \n",
       "2       Rejected 2017-02-26 2017-03-07  Linda  \n",
       "3      Completed 2017-02-27 2017-03-08    Kim  \n",
       "4  pendingReview 2017-02-28        NaT  James  "
      ]
     },
     "execution_count": 11,
     "metadata": {},
     "output_type": "execute_result"
    }
   ],
   "source": [
    "# Sanity Test\n",
    "\n",
    "issues_df.head()"
   ]
  },
  {
   "cell_type": "markdown",
   "metadata": {},
   "source": [
    "## Slice/Dice/Select/Filter rows/columns based on date values"
   ]
  },
  {
   "cell_type": "markdown",
   "metadata": {},
   "source": [
    "#### Select the data based on date range for month of January\n"
   ]
  },
  {
   "cell_type": "code",
   "execution_count": 12,
   "metadata": {
    "collapsed": false
   },
   "outputs": [],
   "source": [
    "# Select the data based on date range for month of January\n",
    " \n",
    "in_date_range_issues = issues_df[issues_df[\"Created_at\"].isin(pd.date_range(\"2017-01-1\", \"2017-01-31\"))]\n"
   ]
  },
  {
   "cell_type": "code",
   "execution_count": 13,
   "metadata": {
    "collapsed": false
   },
   "outputs": [
    {
     "data": {
      "text/html": [
       "<div>\n",
       "<table border=\"1\" class=\"dataframe\">\n",
       "  <thead>\n",
       "    <tr style=\"text-align: right;\">\n",
       "      <th></th>\n",
       "      <th>﻿Issue #</th>\n",
       "      <th>OriginationPhase</th>\n",
       "      <th>DetectionPhase</th>\n",
       "      <th>Category</th>\n",
       "      <th>Priority</th>\n",
       "      <th>Status</th>\n",
       "      <th>Created_at</th>\n",
       "      <th>Closed_at</th>\n",
       "      <th>Author</th>\n",
       "    </tr>\n",
       "  </thead>\n",
       "  <tbody>\n",
       "    <tr>\n",
       "      <th>102</th>\n",
       "      <td>103</td>\n",
       "      <td>Documentation</td>\n",
       "      <td>Field</td>\n",
       "      <td>Enhancement</td>\n",
       "      <td>Major</td>\n",
       "      <td>pendingReview</td>\n",
       "      <td>2017-01-05</td>\n",
       "      <td>NaT</td>\n",
       "      <td>Sandy</td>\n",
       "    </tr>\n",
       "    <tr>\n",
       "      <th>103</th>\n",
       "      <td>104</td>\n",
       "      <td>Design</td>\n",
       "      <td>Testing</td>\n",
       "      <td>Bug</td>\n",
       "      <td>Critical</td>\n",
       "      <td>Approved</td>\n",
       "      <td>2017-01-06</td>\n",
       "      <td>NaT</td>\n",
       "      <td>David</td>\n",
       "    </tr>\n",
       "    <tr>\n",
       "      <th>104</th>\n",
       "      <td>105</td>\n",
       "      <td>Requirements</td>\n",
       "      <td>Coding</td>\n",
       "      <td>Bug</td>\n",
       "      <td>High</td>\n",
       "      <td>Approved</td>\n",
       "      <td>2017-01-07</td>\n",
       "      <td>NaT</td>\n",
       "      <td>Michelle</td>\n",
       "    </tr>\n",
       "    <tr>\n",
       "      <th>105</th>\n",
       "      <td>106</td>\n",
       "      <td>Requirements</td>\n",
       "      <td>Design</td>\n",
       "      <td>Inquiry</td>\n",
       "      <td>Low</td>\n",
       "      <td>Approved</td>\n",
       "      <td>2017-01-08</td>\n",
       "      <td>NaT</td>\n",
       "      <td>Jeremy</td>\n",
       "    </tr>\n",
       "    <tr>\n",
       "      <th>106</th>\n",
       "      <td>107</td>\n",
       "      <td>Testing</td>\n",
       "      <td>Field</td>\n",
       "      <td>Bug</td>\n",
       "      <td>Medium</td>\n",
       "      <td>Approved</td>\n",
       "      <td>2017-01-09</td>\n",
       "      <td>NaT</td>\n",
       "      <td>Joseph</td>\n",
       "    </tr>\n",
       "  </tbody>\n",
       "</table>\n",
       "</div>"
      ],
      "text/plain": [
       "     ﻿Issue # OriginationPhase DetectionPhase     Category  Priority  \\\n",
       "102       103    Documentation          Field  Enhancement     Major   \n",
       "103       104           Design        Testing          Bug  Critical   \n",
       "104       105     Requirements         Coding          Bug      High   \n",
       "105       106     Requirements         Design      Inquiry       Low   \n",
       "106       107          Testing          Field          Bug    Medium   \n",
       "\n",
       "            Status Created_at Closed_at    Author  \n",
       "102  pendingReview 2017-01-05       NaT     Sandy  \n",
       "103       Approved 2017-01-06       NaT     David  \n",
       "104       Approved 2017-01-07       NaT  Michelle  \n",
       "105       Approved 2017-01-08       NaT    Jeremy  \n",
       "106       Approved 2017-01-09       NaT    Joseph  "
      ]
     },
     "execution_count": 13,
     "metadata": {},
     "output_type": "execute_result"
    }
   ],
   "source": [
    "in_date_range_issues.head()"
   ]
  },
  {
   "cell_type": "code",
   "execution_count": 14,
   "metadata": {
    "collapsed": false
   },
   "outputs": [
    {
     "data": {
      "text/plain": [
       "131"
      ]
     },
     "execution_count": 14,
     "metadata": {},
     "output_type": "execute_result"
    }
   ],
   "source": [
    "# How many issues created in month of January\n",
    "\n",
    "in_date_range_issues['Created_at'].count()"
   ]
  },
  {
   "cell_type": "markdown",
   "metadata": {},
   "source": [
    "#### Select the data based on date range for month of February\n"
   ]
  },
  {
   "cell_type": "code",
   "execution_count": 15,
   "metadata": {
    "collapsed": true
   },
   "outputs": [],
   "source": [
    "# Select the data based on date range for month of February\n",
    " \n",
    "in_date_range_issues = issues_df[issues_df[\"Created_at\"].isin(pd.date_range(\"2017-02-1\", \"2017-02-28\"))]\n"
   ]
  },
  {
   "cell_type": "code",
   "execution_count": 16,
   "metadata": {
    "collapsed": false
   },
   "outputs": [
    {
     "data": {
      "text/html": [
       "<div>\n",
       "<table border=\"1\" class=\"dataframe\">\n",
       "  <thead>\n",
       "    <tr style=\"text-align: right;\">\n",
       "      <th></th>\n",
       "      <th>﻿Issue #</th>\n",
       "      <th>OriginationPhase</th>\n",
       "      <th>DetectionPhase</th>\n",
       "      <th>Category</th>\n",
       "      <th>Priority</th>\n",
       "      <th>Status</th>\n",
       "      <th>Created_at</th>\n",
       "      <th>Closed_at</th>\n",
       "      <th>Author</th>\n",
       "    </tr>\n",
       "  </thead>\n",
       "  <tbody>\n",
       "    <tr>\n",
       "      <th>0</th>\n",
       "      <td>1</td>\n",
       "      <td>Requirements</td>\n",
       "      <td>Coding</td>\n",
       "      <td>Bug</td>\n",
       "      <td>Critical</td>\n",
       "      <td>Approved</td>\n",
       "      <td>2017-02-24</td>\n",
       "      <td>NaT</td>\n",
       "      <td>Smith</td>\n",
       "    </tr>\n",
       "    <tr>\n",
       "      <th>1</th>\n",
       "      <td>2</td>\n",
       "      <td>Design</td>\n",
       "      <td>Testing</td>\n",
       "      <td>Enhancement</td>\n",
       "      <td>High</td>\n",
       "      <td>Approved</td>\n",
       "      <td>2017-02-25</td>\n",
       "      <td>NaT</td>\n",
       "      <td>Roy</td>\n",
       "    </tr>\n",
       "    <tr>\n",
       "      <th>2</th>\n",
       "      <td>3</td>\n",
       "      <td>Requirements</td>\n",
       "      <td>Design</td>\n",
       "      <td>Inquiry</td>\n",
       "      <td>Low</td>\n",
       "      <td>Rejected</td>\n",
       "      <td>2017-02-26</td>\n",
       "      <td>2017-03-07</td>\n",
       "      <td>Linda</td>\n",
       "    </tr>\n",
       "    <tr>\n",
       "      <th>3</th>\n",
       "      <td>4</td>\n",
       "      <td>Testing</td>\n",
       "      <td>Field</td>\n",
       "      <td>Bug</td>\n",
       "      <td>High</td>\n",
       "      <td>Completed</td>\n",
       "      <td>2017-02-27</td>\n",
       "      <td>2017-03-08</td>\n",
       "      <td>Kim</td>\n",
       "    </tr>\n",
       "    <tr>\n",
       "      <th>4</th>\n",
       "      <td>5</td>\n",
       "      <td>Documentation</td>\n",
       "      <td>Field</td>\n",
       "      <td>Enhancement</td>\n",
       "      <td>Major</td>\n",
       "      <td>pendingReview</td>\n",
       "      <td>2017-02-28</td>\n",
       "      <td>NaT</td>\n",
       "      <td>James</td>\n",
       "    </tr>\n",
       "  </tbody>\n",
       "</table>\n",
       "</div>"
      ],
      "text/plain": [
       "   ﻿Issue # OriginationPhase DetectionPhase     Category  Priority  \\\n",
       "0         1     Requirements         Coding          Bug  Critical   \n",
       "1         2           Design        Testing  Enhancement      High   \n",
       "2         3     Requirements         Design      Inquiry       Low   \n",
       "3         4          Testing          Field          Bug      High   \n",
       "4         5    Documentation          Field  Enhancement     Major   \n",
       "\n",
       "          Status Created_at  Closed_at Author  \n",
       "0       Approved 2017-02-24        NaT  Smith  \n",
       "1       Approved 2017-02-25        NaT    Roy  \n",
       "2       Rejected 2017-02-26 2017-03-07  Linda  \n",
       "3      Completed 2017-02-27 2017-03-08    Kim  \n",
       "4  pendingReview 2017-02-28        NaT  James  "
      ]
     },
     "execution_count": 16,
     "metadata": {},
     "output_type": "execute_result"
    }
   ],
   "source": [
    "in_date_range_issues.head()"
   ]
  },
  {
   "cell_type": "code",
   "execution_count": 17,
   "metadata": {
    "collapsed": false
   },
   "outputs": [
    {
     "data": {
      "text/plain": [
       "164"
      ]
     },
     "execution_count": 17,
     "metadata": {},
     "output_type": "execute_result"
    }
   ],
   "source": [
    "# How many issues created in month of February\n",
    "\n",
    "in_date_range_issues['Created_at'].count()"
   ]
  },
  {
   "cell_type": "code",
   "execution_count": 18,
   "metadata": {
    "collapsed": false
   },
   "outputs": [],
   "source": [
    "# Create Weekly index\n",
    "\n",
    "weekly_index = pd.date_range('2017-1-1', '2018-1-1', freq='W')\n"
   ]
  },
  {
   "cell_type": "code",
   "execution_count": 19,
   "metadata": {
    "collapsed": true
   },
   "outputs": [],
   "source": [
    "# Create Monthly index\n",
    "\n",
    "monthly_index = pd.date_range('2016-12-1', '2018-1-1', freq='BM')\n"
   ]
  },
  {
   "cell_type": "code",
   "execution_count": 20,
   "metadata": {
    "collapsed": false
   },
   "outputs": [
    {
     "data": {
      "text/plain": [
       "DatetimeIndex(['2017-01-01', '2017-01-08', '2017-01-15', '2017-01-22',\n",
       "               '2017-01-29', '2017-02-05', '2017-02-12', '2017-02-19',\n",
       "               '2017-02-26', '2017-03-05', '2017-03-12', '2017-03-19',\n",
       "               '2017-03-26'],\n",
       "              dtype='datetime64[ns]', freq='W-SUN')"
      ]
     },
     "execution_count": 20,
     "metadata": {},
     "output_type": "execute_result"
    }
   ],
   "source": [
    "# Sanity test for week index\n",
    "\n",
    "weekly_index[:13]"
   ]
  },
  {
   "cell_type": "code",
   "execution_count": 21,
   "metadata": {
    "collapsed": false
   },
   "outputs": [
    {
     "data": {
      "text/plain": [
       "DatetimeIndex(['2016-12-30', '2017-01-31', '2017-02-28', '2017-03-31',\n",
       "               '2017-04-28', '2017-05-31', '2017-06-30', '2017-07-31',\n",
       "               '2017-08-31', '2017-09-29', '2017-10-31', '2017-11-30'],\n",
       "              dtype='datetime64[ns]', freq='BM')"
      ]
     },
     "execution_count": 21,
     "metadata": {},
     "output_type": "execute_result"
    }
   ],
   "source": [
    "# Sanity test for month  index\n",
    "\n",
    "monthly_index[:12]"
   ]
  },
  {
   "cell_type": "code",
   "execution_count": 22,
   "metadata": {
    "collapsed": false
   },
   "outputs": [
    {
     "data": {
      "text/plain": [
       "DatetimeIndex(['2017-01-01'], dtype='datetime64[ns]', freq='W-SUN')"
      ]
     },
     "execution_count": 22,
     "metadata": {},
     "output_type": "execute_result"
    }
   ],
   "source": [
    "weekly_index[:1]"
   ]
  },
  {
   "cell_type": "code",
   "execution_count": 23,
   "metadata": {
    "collapsed": false
   },
   "outputs": [
    {
     "data": {
      "text/plain": [
       "﻿Issue #            61\n",
       "OriginationPhase    61\n",
       "DetectionPhase      61\n",
       "Category            61\n",
       "Priority            61\n",
       "Status              61\n",
       "Created_at          61\n",
       "Closed_at           25\n",
       "Author              61\n",
       "dtype: int64"
      ]
     },
     "execution_count": 23,
     "metadata": {},
     "output_type": "execute_result"
    }
   ],
   "source": [
    "# Print how many issues openned in the 2nd week of January\n",
    "\n",
    "(issues_df[issues_df[\"Created_at\"].isin(pd.date_range(weekly_index[1], weekly_index[2]))]).count()\n"
   ]
  },
  {
   "cell_type": "code",
   "execution_count": 24,
   "metadata": {
    "collapsed": false
   },
   "outputs": [],
   "source": [
    "# Print how many issues created weekly\n",
    "\n",
    "cols = ['Week Ending', 'Total Number of Issues']\n",
    "list_weekly_iisues = []\n",
    "\n",
    "\n",
    "weekly_issues = []\n",
    "\n",
    "for i in range(1, 52):\n",
    "    list_weekly_iisues.append([weekly_index[i], (issues_df[issues_df['Created_at'].isin(pd.date_range(weekly_index[i], weekly_index[i+1]))]['Created_at']).count()])\n",
    "\n",
    "\n",
    "weekly_issues = pd.DataFrame(list_weekly_iisues, columns=cols)\n",
    "\n",
    "\n"
   ]
  },
  {
   "cell_type": "code",
   "execution_count": 25,
   "metadata": {
    "collapsed": false
   },
   "outputs": [
    {
     "data": {
      "text/html": [
       "<div>\n",
       "<table border=\"1\" class=\"dataframe\">\n",
       "  <thead>\n",
       "    <tr style=\"text-align: right;\">\n",
       "      <th></th>\n",
       "      <th>Week Ending</th>\n",
       "      <th>Total Number of Issues</th>\n",
       "    </tr>\n",
       "  </thead>\n",
       "  <tbody>\n",
       "    <tr>\n",
       "      <th>0</th>\n",
       "      <td>2017-01-08</td>\n",
       "      <td>61</td>\n",
       "    </tr>\n",
       "    <tr>\n",
       "      <th>1</th>\n",
       "      <td>2017-01-15</td>\n",
       "      <td>57</td>\n",
       "    </tr>\n",
       "    <tr>\n",
       "      <th>2</th>\n",
       "      <td>2017-01-22</td>\n",
       "      <td>12</td>\n",
       "    </tr>\n",
       "    <tr>\n",
       "      <th>3</th>\n",
       "      <td>2017-01-29</td>\n",
       "      <td>0</td>\n",
       "    </tr>\n",
       "    <tr>\n",
       "      <th>4</th>\n",
       "      <td>2017-02-05</td>\n",
       "      <td>23</td>\n",
       "    </tr>\n",
       "  </tbody>\n",
       "</table>\n",
       "</div>"
      ],
      "text/plain": [
       "  Week Ending  Total Number of Issues\n",
       "0  2017-01-08                      61\n",
       "1  2017-01-15                      57\n",
       "2  2017-01-22                      12\n",
       "3  2017-01-29                       0\n",
       "4  2017-02-05                      23"
      ]
     },
     "execution_count": 25,
     "metadata": {},
     "output_type": "execute_result"
    }
   ],
   "source": [
    "weekly_issues[:5]"
   ]
  },
  {
   "cell_type": "code",
   "execution_count": 26,
   "metadata": {
    "collapsed": false
   },
   "outputs": [],
   "source": [
    "# Create weekly index for every row\n",
    "\n",
    "list_week_numbers_for_issues = []\n",
    "\n",
    "\n",
    "for index, row in issues_df.iterrows():\n",
    "        list_week_numbers_for_issues.append(row.Created_at.week)\n",
    "\n",
    "\n",
    "issues_df_with_week_number = issues_df\n",
    "issues_df_with_week_number['Week'] = Series(list_week_numbers_for_issues, index=issues_df.index)\n",
    "    "
   ]
  },
  {
   "cell_type": "code",
   "execution_count": 27,
   "metadata": {
    "collapsed": false
   },
   "outputs": [
    {
     "data": {
      "text/html": [
       "<div>\n",
       "<table border=\"1\" class=\"dataframe\">\n",
       "  <thead>\n",
       "    <tr style=\"text-align: right;\">\n",
       "      <th></th>\n",
       "      <th>﻿Issue #</th>\n",
       "      <th>OriginationPhase</th>\n",
       "      <th>DetectionPhase</th>\n",
       "      <th>Category</th>\n",
       "      <th>Priority</th>\n",
       "      <th>Status</th>\n",
       "      <th>Created_at</th>\n",
       "      <th>Closed_at</th>\n",
       "      <th>Author</th>\n",
       "      <th>Week</th>\n",
       "    </tr>\n",
       "  </thead>\n",
       "  <tbody>\n",
       "    <tr>\n",
       "      <th>0</th>\n",
       "      <td>1</td>\n",
       "      <td>Requirements</td>\n",
       "      <td>Coding</td>\n",
       "      <td>Bug</td>\n",
       "      <td>Critical</td>\n",
       "      <td>Approved</td>\n",
       "      <td>2017-02-24</td>\n",
       "      <td>NaT</td>\n",
       "      <td>Smith</td>\n",
       "      <td>8</td>\n",
       "    </tr>\n",
       "    <tr>\n",
       "      <th>1</th>\n",
       "      <td>2</td>\n",
       "      <td>Design</td>\n",
       "      <td>Testing</td>\n",
       "      <td>Enhancement</td>\n",
       "      <td>High</td>\n",
       "      <td>Approved</td>\n",
       "      <td>2017-02-25</td>\n",
       "      <td>NaT</td>\n",
       "      <td>Roy</td>\n",
       "      <td>8</td>\n",
       "    </tr>\n",
       "    <tr>\n",
       "      <th>2</th>\n",
       "      <td>3</td>\n",
       "      <td>Requirements</td>\n",
       "      <td>Design</td>\n",
       "      <td>Inquiry</td>\n",
       "      <td>Low</td>\n",
       "      <td>Rejected</td>\n",
       "      <td>2017-02-26</td>\n",
       "      <td>2017-03-07</td>\n",
       "      <td>Linda</td>\n",
       "      <td>8</td>\n",
       "    </tr>\n",
       "    <tr>\n",
       "      <th>3</th>\n",
       "      <td>4</td>\n",
       "      <td>Testing</td>\n",
       "      <td>Field</td>\n",
       "      <td>Bug</td>\n",
       "      <td>High</td>\n",
       "      <td>Completed</td>\n",
       "      <td>2017-02-27</td>\n",
       "      <td>2017-03-08</td>\n",
       "      <td>Kim</td>\n",
       "      <td>9</td>\n",
       "    </tr>\n",
       "    <tr>\n",
       "      <th>4</th>\n",
       "      <td>5</td>\n",
       "      <td>Documentation</td>\n",
       "      <td>Field</td>\n",
       "      <td>Enhancement</td>\n",
       "      <td>Major</td>\n",
       "      <td>pendingReview</td>\n",
       "      <td>2017-02-28</td>\n",
       "      <td>NaT</td>\n",
       "      <td>James</td>\n",
       "      <td>9</td>\n",
       "    </tr>\n",
       "  </tbody>\n",
       "</table>\n",
       "</div>"
      ],
      "text/plain": [
       "   ﻿Issue # OriginationPhase DetectionPhase     Category  Priority  \\\n",
       "0         1     Requirements         Coding          Bug  Critical   \n",
       "1         2           Design        Testing  Enhancement      High   \n",
       "2         3     Requirements         Design      Inquiry       Low   \n",
       "3         4          Testing          Field          Bug      High   \n",
       "4         5    Documentation          Field  Enhancement     Major   \n",
       "\n",
       "          Status Created_at  Closed_at Author  Week  \n",
       "0       Approved 2017-02-24        NaT  Smith     8  \n",
       "1       Approved 2017-02-25        NaT    Roy     8  \n",
       "2       Rejected 2017-02-26 2017-03-07  Linda     8  \n",
       "3      Completed 2017-02-27 2017-03-08    Kim     9  \n",
       "4  pendingReview 2017-02-28        NaT  James     9  "
      ]
     },
     "execution_count": 27,
     "metadata": {},
     "output_type": "execute_result"
    }
   ],
   "source": [
    "# Sanity test for week number added\n",
    "\n",
    "issues_df_with_week_number.head()"
   ]
  },
  {
   "cell_type": "code",
   "execution_count": 28,
   "metadata": {
    "collapsed": true
   },
   "outputs": [],
   "source": [
    "# Create weekly index for every row\n",
    "\n",
    "list_month_numbers_for_issues = []\n",
    "\n",
    "\n",
    "for index, row in issues_df.iterrows():\n",
    "        list_month_numbers_for_issues.append(row.Created_at.month)\n",
    "\n",
    "\n",
    "issues_df_with_month_number = issues_df\n",
    "issues_df_with_month_number['Month'] = Series(list_month_numbers_for_issues, index=issues_df.index)\n",
    "    "
   ]
  },
  {
   "cell_type": "code",
   "execution_count": 29,
   "metadata": {
    "collapsed": false
   },
   "outputs": [
    {
     "data": {
      "text/html": [
       "<div>\n",
       "<table border=\"1\" class=\"dataframe\">\n",
       "  <thead>\n",
       "    <tr style=\"text-align: right;\">\n",
       "      <th></th>\n",
       "      <th>﻿Issue #</th>\n",
       "      <th>OriginationPhase</th>\n",
       "      <th>DetectionPhase</th>\n",
       "      <th>Category</th>\n",
       "      <th>Priority</th>\n",
       "      <th>Status</th>\n",
       "      <th>Created_at</th>\n",
       "      <th>Closed_at</th>\n",
       "      <th>Author</th>\n",
       "      <th>Week</th>\n",
       "      <th>Month</th>\n",
       "    </tr>\n",
       "  </thead>\n",
       "  <tbody>\n",
       "    <tr>\n",
       "      <th>0</th>\n",
       "      <td>1</td>\n",
       "      <td>Requirements</td>\n",
       "      <td>Coding</td>\n",
       "      <td>Bug</td>\n",
       "      <td>Critical</td>\n",
       "      <td>Approved</td>\n",
       "      <td>2017-02-24</td>\n",
       "      <td>NaT</td>\n",
       "      <td>Smith</td>\n",
       "      <td>8</td>\n",
       "      <td>2</td>\n",
       "    </tr>\n",
       "    <tr>\n",
       "      <th>1</th>\n",
       "      <td>2</td>\n",
       "      <td>Design</td>\n",
       "      <td>Testing</td>\n",
       "      <td>Enhancement</td>\n",
       "      <td>High</td>\n",
       "      <td>Approved</td>\n",
       "      <td>2017-02-25</td>\n",
       "      <td>NaT</td>\n",
       "      <td>Roy</td>\n",
       "      <td>8</td>\n",
       "      <td>2</td>\n",
       "    </tr>\n",
       "    <tr>\n",
       "      <th>2</th>\n",
       "      <td>3</td>\n",
       "      <td>Requirements</td>\n",
       "      <td>Design</td>\n",
       "      <td>Inquiry</td>\n",
       "      <td>Low</td>\n",
       "      <td>Rejected</td>\n",
       "      <td>2017-02-26</td>\n",
       "      <td>2017-03-07</td>\n",
       "      <td>Linda</td>\n",
       "      <td>8</td>\n",
       "      <td>2</td>\n",
       "    </tr>\n",
       "    <tr>\n",
       "      <th>3</th>\n",
       "      <td>4</td>\n",
       "      <td>Testing</td>\n",
       "      <td>Field</td>\n",
       "      <td>Bug</td>\n",
       "      <td>High</td>\n",
       "      <td>Completed</td>\n",
       "      <td>2017-02-27</td>\n",
       "      <td>2017-03-08</td>\n",
       "      <td>Kim</td>\n",
       "      <td>9</td>\n",
       "      <td>2</td>\n",
       "    </tr>\n",
       "    <tr>\n",
       "      <th>4</th>\n",
       "      <td>5</td>\n",
       "      <td>Documentation</td>\n",
       "      <td>Field</td>\n",
       "      <td>Enhancement</td>\n",
       "      <td>Major</td>\n",
       "      <td>pendingReview</td>\n",
       "      <td>2017-02-28</td>\n",
       "      <td>NaT</td>\n",
       "      <td>James</td>\n",
       "      <td>9</td>\n",
       "      <td>2</td>\n",
       "    </tr>\n",
       "  </tbody>\n",
       "</table>\n",
       "</div>"
      ],
      "text/plain": [
       "   ﻿Issue # OriginationPhase DetectionPhase     Category  Priority  \\\n",
       "0         1     Requirements         Coding          Bug  Critical   \n",
       "1         2           Design        Testing  Enhancement      High   \n",
       "2         3     Requirements         Design      Inquiry       Low   \n",
       "3         4          Testing          Field          Bug      High   \n",
       "4         5    Documentation          Field  Enhancement     Major   \n",
       "\n",
       "          Status Created_at  Closed_at Author  Week  Month  \n",
       "0       Approved 2017-02-24        NaT  Smith     8      2  \n",
       "1       Approved 2017-02-25        NaT    Roy     8      2  \n",
       "2       Rejected 2017-02-26 2017-03-07  Linda     8      2  \n",
       "3      Completed 2017-02-27 2017-03-08    Kim     9      2  \n",
       "4  pendingReview 2017-02-28        NaT  James     9      2  "
      ]
     },
     "execution_count": 29,
     "metadata": {},
     "output_type": "execute_result"
    }
   ],
   "source": [
    "# Sanity test for week number added\n",
    "\n",
    "issues_df_with_month_number.head()"
   ]
  },
  {
   "cell_type": "code",
   "execution_count": 30,
   "metadata": {
    "collapsed": false
   },
   "outputs": [],
   "source": [
    "# Print how many issues created weekly - DETAILED\n",
    "\n",
    "cols = ['Week Ending', 'Total Number of Issues', 'Crirical','High']\n",
    "list_weekly_iisues = []\n",
    "\n",
    "\n",
    "weekly_issues = []\n",
    "\n",
    "for i in range(1, 52):\n",
    "    list_weekly_iisues.append([weekly_index[i], \n",
    "                                    (issues_df[issues_df['Created_at'].isin(pd.date_range(weekly_index[i], weekly_index[i+1]))]['Created_at']).count(),\n",
    "                                    (issues_df[(issues_df.Priority == 'Critical') & \n",
    "                                              (issues_df['Created_at'].isin(pd.date_range(weekly_index[i], weekly_index[i+1])))]['Priority']).count(),\n",
    "                                      (issues_df[(issues_df.Priority == 'High') & \n",
    "                                              (issues_df['Created_at'].isin(pd.date_range(weekly_index[i], weekly_index[i+1])))]['Priority']).count()])\n",
    "\n",
    "\n",
    "weekly_issues = pd.DataFrame(list_weekly_iisues, columns=cols)\n"
   ]
  },
  {
   "cell_type": "code",
   "execution_count": 31,
   "metadata": {
    "collapsed": false
   },
   "outputs": [
    {
     "data": {
      "text/html": [
       "<div>\n",
       "<table border=\"1\" class=\"dataframe\">\n",
       "  <thead>\n",
       "    <tr style=\"text-align: right;\">\n",
       "      <th></th>\n",
       "      <th>Week Ending</th>\n",
       "      <th>Total Number of Issues</th>\n",
       "      <th>Crirical</th>\n",
       "      <th>High</th>\n",
       "    </tr>\n",
       "  </thead>\n",
       "  <tbody>\n",
       "    <tr>\n",
       "      <th>0</th>\n",
       "      <td>2017-01-08</td>\n",
       "      <td>61</td>\n",
       "      <td>0</td>\n",
       "      <td>7</td>\n",
       "    </tr>\n",
       "    <tr>\n",
       "      <th>1</th>\n",
       "      <td>2017-01-15</td>\n",
       "      <td>57</td>\n",
       "      <td>5</td>\n",
       "      <td>23</td>\n",
       "    </tr>\n",
       "    <tr>\n",
       "      <th>2</th>\n",
       "      <td>2017-01-22</td>\n",
       "      <td>12</td>\n",
       "      <td>0</td>\n",
       "      <td>12</td>\n",
       "    </tr>\n",
       "    <tr>\n",
       "      <th>3</th>\n",
       "      <td>2017-01-29</td>\n",
       "      <td>0</td>\n",
       "      <td>0</td>\n",
       "      <td>0</td>\n",
       "    </tr>\n",
       "    <tr>\n",
       "      <th>4</th>\n",
       "      <td>2017-02-05</td>\n",
       "      <td>23</td>\n",
       "      <td>3</td>\n",
       "      <td>5</td>\n",
       "    </tr>\n",
       "  </tbody>\n",
       "</table>\n",
       "</div>"
      ],
      "text/plain": [
       "  Week Ending  Total Number of Issues  Crirical  High\n",
       "0  2017-01-08                      61         0     7\n",
       "1  2017-01-15                      57         5    23\n",
       "2  2017-01-22                      12         0    12\n",
       "3  2017-01-29                       0         0     0\n",
       "4  2017-02-05                      23         3     5"
      ]
     },
     "execution_count": 31,
     "metadata": {},
     "output_type": "execute_result"
    }
   ],
   "source": [
    "weekly_issues[:5]"
   ]
  },
  {
   "cell_type": "code",
   "execution_count": 32,
   "metadata": {
    "collapsed": false
   },
   "outputs": [
    {
     "data": {
      "text/plain": [
       "count     51.000000\n",
       "mean      44.039216\n",
       "std       60.744699\n",
       "min        0.000000\n",
       "25%       12.000000\n",
       "50%       25.000000\n",
       "75%       56.000000\n",
       "max      314.000000\n",
       "Name: Total Number of Issues, dtype: float64"
      ]
     },
     "execution_count": 32,
     "metadata": {},
     "output_type": "execute_result"
    }
   ],
   "source": [
    "# Print basic stat about the weekly issues\n",
    "\n",
    "weekly_issues['Total Number of Issues'].describe()\n"
   ]
  },
  {
   "cell_type": "code",
   "execution_count": 33,
   "metadata": {
    "collapsed": false
   },
   "outputs": [],
   "source": [
    "# Print how many issues created monthly\n",
    "\n",
    "cols = ['Month Ending', 'Total Number of Issues']\n",
    "list_monthly_iisues = []\n",
    "\n",
    "\n",
    "monthly_issues = []\n",
    "\n",
    "for i in range(0, 11):\n",
    "    list_monthly_iisues.append([monthly_index[i+1], (issues_df[issues_df['Created_at'].isin(pd.date_range(monthly_index[i], monthly_index[i+1]))]['Created_at']).count()])\n",
    "\n",
    "\n",
    "monthly_issues = pd.DataFrame(list_monthly_iisues, columns=cols)\n"
   ]
  },
  {
   "cell_type": "code",
   "execution_count": 34,
   "metadata": {
    "collapsed": false
   },
   "outputs": [
    {
     "data": {
      "text/html": [
       "<div>\n",
       "<table border=\"1\" class=\"dataframe\">\n",
       "  <thead>\n",
       "    <tr style=\"text-align: right;\">\n",
       "      <th></th>\n",
       "      <th>Month Ending</th>\n",
       "      <th>Total Number of Issues</th>\n",
       "    </tr>\n",
       "  </thead>\n",
       "  <tbody>\n",
       "    <tr>\n",
       "      <th>0</th>\n",
       "      <td>2017-01-31</td>\n",
       "      <td>131</td>\n",
       "    </tr>\n",
       "    <tr>\n",
       "      <th>1</th>\n",
       "      <td>2017-02-28</td>\n",
       "      <td>164</td>\n",
       "    </tr>\n",
       "    <tr>\n",
       "      <th>2</th>\n",
       "      <td>2017-03-31</td>\n",
       "      <td>610</td>\n",
       "    </tr>\n",
       "    <tr>\n",
       "      <th>3</th>\n",
       "      <td>2017-04-28</td>\n",
       "      <td>150</td>\n",
       "    </tr>\n",
       "    <tr>\n",
       "      <th>4</th>\n",
       "      <td>2017-05-31</td>\n",
       "      <td>163</td>\n",
       "    </tr>\n",
       "    <tr>\n",
       "      <th>5</th>\n",
       "      <td>2017-06-30</td>\n",
       "      <td>127</td>\n",
       "    </tr>\n",
       "    <tr>\n",
       "      <th>6</th>\n",
       "      <td>2017-07-31</td>\n",
       "      <td>104</td>\n",
       "    </tr>\n",
       "    <tr>\n",
       "      <th>7</th>\n",
       "      <td>2017-08-31</td>\n",
       "      <td>226</td>\n",
       "    </tr>\n",
       "    <tr>\n",
       "      <th>8</th>\n",
       "      <td>2017-09-29</td>\n",
       "      <td>23</td>\n",
       "    </tr>\n",
       "    <tr>\n",
       "      <th>9</th>\n",
       "      <td>2017-10-31</td>\n",
       "      <td>111</td>\n",
       "    </tr>\n",
       "    <tr>\n",
       "      <th>10</th>\n",
       "      <td>2017-11-30</td>\n",
       "      <td>162</td>\n",
       "    </tr>\n",
       "  </tbody>\n",
       "</table>\n",
       "</div>"
      ],
      "text/plain": [
       "   Month Ending  Total Number of Issues\n",
       "0    2017-01-31                     131\n",
       "1    2017-02-28                     164\n",
       "2    2017-03-31                     610\n",
       "3    2017-04-28                     150\n",
       "4    2017-05-31                     163\n",
       "5    2017-06-30                     127\n",
       "6    2017-07-31                     104\n",
       "7    2017-08-31                     226\n",
       "8    2017-09-29                      23\n",
       "9    2017-10-31                     111\n",
       "10   2017-11-30                     162"
      ]
     },
     "execution_count": 34,
     "metadata": {},
     "output_type": "execute_result"
    }
   ],
   "source": [
    "monthly_issues[:12]"
   ]
  },
  {
   "cell_type": "code",
   "execution_count": 35,
   "metadata": {
    "collapsed": false
   },
   "outputs": [
    {
     "data": {
      "text/plain": [
       "OriginationPhase  Category     Status       \n",
       "Coding            Bug          Completed        204\n",
       "                               Rejected           2\n",
       "                  Inquiry      Completed          1\n",
       "Design            Bug          Approved          46\n",
       "                               inProgress        18\n",
       "                               Completed          3\n",
       "                  Enhancement  Approved          60\n",
       "                               Completed          1\n",
       "                               Rejected           1\n",
       "                  Inquiry      inProgress       249\n",
       "                               Approved         146\n",
       "                               Completed         37\n",
       "                               Rejected          17\n",
       "                               pendingReview      1\n",
       "Documentation     Bug          pendingReview     14\n",
       "                               Rejected           1\n",
       "                  Enhancement  pendingReview    224\n",
       "                               Completed         40\n",
       "                               Rejected          19\n",
       "                               Approved           9\n",
       "                  Inquiry      pendingReview     58\n",
       "                               Completed          1\n",
       "                               Rejected           1\n",
       "Requirements      Bug          inProgress       115\n",
       "                               Completed         46\n",
       "                               Approved           8\n",
       "                               pendingReview      8\n",
       "                               Rejected           6\n",
       "                  Enhancement  Completed          1\n",
       "                               Rejected           1\n",
       "                  Inquiry      Rejected         179\n",
       "                               pendingReview     10\n",
       "                               Approved           7\n",
       "                               Completed          5\n",
       "                               inProgress         3\n",
       "Testing           Bug          Completed        306\n",
       "                               Approved          21\n",
       "                               Rejected          14\n",
       "                               pendingReview     10\n",
       "                  Enhancement  Completed        101\n",
       "                               Rejected           2\n",
       "                  Inquiry      Completed          4\n",
       "dtype: int64"
      ]
     },
     "execution_count": 35,
     "metadata": {},
     "output_type": "execute_result"
    }
   ],
   "source": [
    "\n",
    "# Create a GROUPER for every [OriginationPhase, category]\n",
    "\n",
    "issues_grouper = issues_df.groupby(['OriginationPhase','Category'])\n",
    "\n",
    "\n",
    "#for key, group in issues_grouper:\n",
    "#    print key\n",
    "#    print group\n",
    "\n",
    "\n",
    "# PivotTable like output can be produced using value_counts on the grouper object\n",
    "issues_grouper['Status'].value_counts()\n",
    "\n"
   ]
  },
  {
   "cell_type": "code",
   "execution_count": 36,
   "metadata": {
    "collapsed": false
   },
   "outputs": [
    {
     "data": {
      "text/plain": [
       "pandas.core.series.Series"
      ]
     },
     "execution_count": 36,
     "metadata": {},
     "output_type": "execute_result"
    }
   ],
   "source": [
    "type(issues_grouper['Status'].value_counts())"
   ]
  },
  {
   "cell_type": "code",
   "execution_count": 37,
   "metadata": {
    "collapsed": false
   },
   "outputs": [],
   "source": [
    "# Lets calculate the number of issues opened based on Multilevel indexing\n",
    "# The count is sorted in ascending order\n",
    "\n",
    "multi_level_indexing_for_issues = issues_grouper['Status'].value_counts().sort_values(ascending=False)\n"
   ]
  },
  {
   "cell_type": "code",
   "execution_count": 38,
   "metadata": {
    "collapsed": false
   },
   "outputs": [
    {
     "data": {
      "text/plain": [
       "array([306, 249, 224, 204, 179, 146, 115, 101,  60,  58,  46,  46,  40,\n",
       "        37,  21,  19,  18,  17,  14,  14,  10,  10,   9,   8,   8,   7,\n",
       "         6,   5,   4,   3,   3,   2,   2,   1,   1,   1,   1,   1,   1,\n",
       "         1,   1,   1], dtype=int64)"
      ]
     },
     "execution_count": 38,
     "metadata": {},
     "output_type": "execute_result"
    }
   ],
   "source": [
    "multi_level_indexing_for_issues.values"
   ]
  },
  {
   "cell_type": "code",
   "execution_count": 39,
   "metadata": {
    "collapsed": false
   },
   "outputs": [
    {
     "data": {
      "text/plain": [
       "('Testing', 'Bug', 'Completed')"
      ]
     },
     "execution_count": 39,
     "metadata": {},
     "output_type": "execute_result"
    }
   ],
   "source": [
    "# What is first valid index?\n",
    "\n",
    "multi_level_indexing_for_issues.first_valid_index()"
   ]
  },
  {
   "cell_type": "code",
   "execution_count": 40,
   "metadata": {
    "collapsed": false
   },
   "outputs": [
    {
     "data": {
      "text/plain": [
       "306"
      ]
     },
     "execution_count": 40,
     "metadata": {},
     "output_type": "execute_result"
    }
   ],
   "source": [
    "# Get the count associated with the first valid index\n",
    "multi_level_indexing_for_issues.get(multi_level_indexing_for_issues.first_valid_index())"
   ]
  },
  {
   "cell_type": "code",
   "execution_count": 41,
   "metadata": {
    "collapsed": false
   },
   "outputs": [
    {
     "data": {
      "text/plain": [
       "OriginationPhase  Category     Status       \n",
       "Testing           Bug          Completed        306\n",
       "Design            Inquiry      inProgress       249\n",
       "Documentation     Enhancement  pendingReview    224\n",
       "Coding            Bug          Completed        204\n",
       "Requirements      Inquiry      Rejected         179\n",
       "dtype: int64"
      ]
     },
     "execution_count": 41,
     "metadata": {},
     "output_type": "execute_result"
    }
   ],
   "source": [
    "# Get most frequent issues opened using the index [OriginationPhase  Category  Status] \n",
    "multi_level_indexing_for_issues.head(5)\n"
   ]
  },
  {
   "cell_type": "code",
   "execution_count": 42,
   "metadata": {
    "collapsed": false
   },
   "outputs": [
    {
     "data": {
      "text/plain": [
       "('Testing', 'Bug', 'Completed')"
      ]
     },
     "execution_count": 42,
     "metadata": {},
     "output_type": "execute_result"
    }
   ],
   "source": [
    "# We can also find the index with max value\n",
    "multi_level_indexing_for_issues.idxmax()"
   ]
  },
  {
   "cell_type": "code",
   "execution_count": 43,
   "metadata": {
    "collapsed": false
   },
   "outputs": [
    {
     "data": {
      "text/plain": [
       "('Documentation', 'Bug', 'Rejected')"
      ]
     },
     "execution_count": 43,
     "metadata": {},
     "output_type": "execute_result"
    }
   ],
   "source": [
    "# Find the label of th elast index\n",
    "\n",
    "multi_level_indexing_for_issues.last_valid_index()"
   ]
  },
  {
   "cell_type": "code",
   "execution_count": 44,
   "metadata": {
    "collapsed": false
   },
   "outputs": [
    {
     "data": {
      "text/plain": [
       "count     42.000000\n",
       "mean      47.619048\n",
       "std       77.383414\n",
       "min        1.000000\n",
       "25%        2.250000\n",
       "50%       10.000000\n",
       "75%       46.000000\n",
       "max      306.000000\n",
       "dtype: float64"
      ]
     },
     "execution_count": 44,
     "metadata": {},
     "output_type": "execute_result"
    }
   ],
   "source": [
    "# Print general statistics\n",
    "\n",
    "multi_level_indexing_for_issues.describe()"
   ]
  },
  {
   "cell_type": "code",
   "execution_count": 45,
   "metadata": {
    "collapsed": false
   },
   "outputs": [
    {
     "data": {
      "text/plain": [
       "Completed        750\n",
       "inProgress       385\n",
       "pendingReview    325\n",
       "Approved         297\n",
       "Rejected         243\n",
       "Name: Status, dtype: int64"
      ]
     },
     "execution_count": 45,
     "metadata": {},
     "output_type": "execute_result"
    }
   ],
   "source": [
    "# Print how many issues created for every Status value \n",
    "\n",
    "issues_df.Status.value_counts()"
   ]
  },
  {
   "cell_type": "code",
   "execution_count": 46,
   "metadata": {
    "collapsed": false
   },
   "outputs": [
    {
     "data": {
      "image/png": "[encoded data removed]",
      "text/plain": [
       "<matplotlib.figure.Figure at 0xae03e80>"
      ]
     },
     "metadata": {},
     "output_type": "display_data"
    }
   ],
   "source": [
    "# Plot in Bar Chart the total number of issues created every week for every phase \n",
    "\n",
    "weekly_grouper = issues_df_with_week_number.groupby(['Week','DetectionPhase']).DetectionPhase.count()\n",
    "\n",
    "weekly_grouper_fig = weekly_grouper.unstack().plot(kind='bar',stacked=True,  color=['blue','yellow', 'purple', 'red', 'green', 'brown'], grid=False)"
   ]
  },
  {
   "cell_type": "code",
   "execution_count": 47,
   "metadata": {
    "collapsed": false
   },
   "outputs": [
    {
     "data": {
      "image/png": "[encoded data removed]",
      "text/plain": [
       "<matplotlib.figure.Figure at 0xae780b8>"
      ]
     },
     "metadata": {},
     "output_type": "display_data"
    }
   ],
   "source": [
    "# Plot in Bar Chart the total number of issues created every month for every phase \n",
    "\n",
    "monthly_grouper = issues_df_with_week_number.groupby(['Month','DetectionPhase']).DetectionPhase.count()\n",
    "\n",
    "monthly_grouper_fig = monthly_grouper.unstack().plot(kind='bar',stacked=True,  color=['blue','yellow', 'purple', 'red', 'green', 'brown'], grid=False)"
   ]
  },
  {
   "cell_type": "code",
   "execution_count": 48,
   "metadata": {
    "collapsed": false
   },
   "outputs": [
    {
     "data": {
      "image/png": "[encoded data removed]",
      "text/plain": [
       "<matplotlib.figure.Figure at 0xc1add68>"
      ]
     },
     "metadata": {},
     "output_type": "display_data"
    }
   ],
   "source": [
    "# Plot in Bar Chart the total number of issues for every Category in Every OriginationPhase\n",
    "\n",
    "LabelsReviewedByDate = issues_df.groupby(['OriginationPhase','Category']).Category.count()\n",
    "\n",
    "dateLabelsFig = LabelsReviewedByDate.unstack().plot(kind='bar',stacked=True,  color=['blue', 'green', 'red'], grid=False)"
   ]
  },
  {
   "cell_type": "code",
   "execution_count": 49,
   "metadata": {
    "collapsed": false
   },
   "outputs": [
    {
     "data": {
      "image/png": "[encoded data removed]",
      "text/plain": [
       "<matplotlib.figure.Figure at 0xc274a90>"
      ]
     },
     "metadata": {},
     "output_type": "display_data"
    }
   ],
   "source": [
    "# Plot in Bar Chart the total number of issues for every Priority level in Every DetectionPhase\n",
    "\n",
    "LabelsReviewedByDate = issues_df.groupby(['DetectionPhase','Priority']).Priority.count()\n",
    "\n",
    "dateLabelsFig = LabelsReviewedByDate.unstack().plot(kind='bar',stacked=True,  color=['blue','green', 'purple', 'red', 'yellow'], grid=False)"
   ]
  },
  {
   "cell_type": "code",
   "execution_count": 72,
   "metadata": {
    "collapsed": false
   },
   "outputs": [
    {
     "data": {
      "image/png": "[encoded data removed]",
      "text/plain": [
       "<matplotlib.figure.Figure at 0xd7a2b38>"
      ]
     },
     "metadata": {},
     "output_type": "display_data"
    }
   ],
   "source": [
    "# Plot in Bar Chart the total number of issues for every Priority level in Every DetectionPhase\n",
    "\n",
    "LabelsReviewedByDate = issues_df.groupby(['DetectionPhase','Status']).Status.count()\n",
    "\n",
    "dateLabelsFig = LabelsReviewedByDate.unstack().plot(kind='bar',stacked=True,  color=['grey','green', 'purple', 'red', 'yellow'], grid=False)"
   ]
  },
  {
   "cell_type": "markdown",
   "metadata": {},
   "source": [
    "#       For every query and/or Metric/Stat                \n",
    "#      Add your code in an individual cell in this ipynb script       \n"
   ]
  },
  {
   "cell_type": "code",
   "execution_count": 73,
   "metadata": {
    "collapsed": false
   },
   "outputs": [],
   "source": [
    "daily_index = pd.date_range('2017-1-1', '2018-1-1', freq='B')\n",
    "\n",
    "cols = ['Day Ending', 'Total Number of Issues']\n",
    "list_daily_iisues = []\n",
    "\n",
    "\n",
    "daily_issues = []\n",
    "\n",
    "for i in range(0, 260):\n",
    "    list_daily_iisues.append([daily_index[i], (issues_df[issues_df['Created_at'].isin(pd.date_range(daily_index[i], daily_index[i+1]))]['Created_at']).count()])\n",
    "\n",
    "\n",
    "daily_issues = pd.DataFrame(list_daily_iisues, columns=cols)\n"
   ]
  },
  {
   "cell_type": "code",
   "execution_count": 54,
   "metadata": {
    "collapsed": false
   },
   "outputs": [],
   "source": [
    "# Create Daily index for every row\n",
    "\n",
    "list_daily_numbers_for_issues = []\n",
    "\n",
    "\n",
    "for index, row in issues_df.iterrows():\n",
    "        list_daily_numbers_for_issues.append(row.Created_at.day)\n",
    "\n",
    "\n",
    "issues_df_with_daily_number = issues_df\n",
    "issues_df_with_daily_number['Day'] = Series(list_daily_numbers_for_issues, index=issues_df.index)\n",
    "    "
   ]
  },
  {
   "cell_type": "code",
   "execution_count": 55,
   "metadata": {
    "collapsed": false
   },
   "outputs": [
    {
     "data": {
      "text/html": [
       "<div>\n",
       "<table border=\"1\" class=\"dataframe\">\n",
       "  <thead>\n",
       "    <tr style=\"text-align: right;\">\n",
       "      <th></th>\n",
       "      <th>﻿Issue #</th>\n",
       "      <th>Week</th>\n",
       "      <th>Month</th>\n",
       "      <th>Day</th>\n",
       "    </tr>\n",
       "  </thead>\n",
       "  <tbody>\n",
       "    <tr>\n",
       "      <th>count</th>\n",
       "      <td>2000.000000</td>\n",
       "      <td>2000.000000</td>\n",
       "      <td>2000.000000</td>\n",
       "      <td>2000.000000</td>\n",
       "    </tr>\n",
       "    <tr>\n",
       "      <th>mean</th>\n",
       "      <td>1000.500000</td>\n",
       "      <td>21.154500</td>\n",
       "      <td>5.409500</td>\n",
       "      <td>12.978000</td>\n",
       "    </tr>\n",
       "    <tr>\n",
       "      <th>std</th>\n",
       "      <td>577.494589</td>\n",
       "      <td>14.220258</td>\n",
       "      <td>3.219005</td>\n",
       "      <td>7.227838</td>\n",
       "    </tr>\n",
       "    <tr>\n",
       "      <th>min</th>\n",
       "      <td>1.000000</td>\n",
       "      <td>1.000000</td>\n",
       "      <td>1.000000</td>\n",
       "      <td>1.000000</td>\n",
       "    </tr>\n",
       "    <tr>\n",
       "      <th>25%</th>\n",
       "      <td>500.750000</td>\n",
       "      <td>9.000000</td>\n",
       "      <td>3.000000</td>\n",
       "      <td>7.000000</td>\n",
       "    </tr>\n",
       "    <tr>\n",
       "      <th>50%</th>\n",
       "      <td>1000.500000</td>\n",
       "      <td>15.000000</td>\n",
       "      <td>4.000000</td>\n",
       "      <td>12.000000</td>\n",
       "    </tr>\n",
       "    <tr>\n",
       "      <th>75%</th>\n",
       "      <td>1500.250000</td>\n",
       "      <td>32.000000</td>\n",
       "      <td>8.000000</td>\n",
       "      <td>18.000000</td>\n",
       "    </tr>\n",
       "    <tr>\n",
       "      <th>max</th>\n",
       "      <td>2000.000000</td>\n",
       "      <td>51.000000</td>\n",
       "      <td>12.000000</td>\n",
       "      <td>31.000000</td>\n",
       "    </tr>\n",
       "  </tbody>\n",
       "</table>\n",
       "</div>"
      ],
      "text/plain": [
       "          ﻿Issue #         Week        Month          Day\n",
       "count  2000.000000  2000.000000  2000.000000  2000.000000\n",
       "mean   1000.500000    21.154500     5.409500    12.978000\n",
       "std     577.494589    14.220258     3.219005     7.227838\n",
       "min       1.000000     1.000000     1.000000     1.000000\n",
       "25%     500.750000     9.000000     3.000000     7.000000\n",
       "50%    1000.500000    15.000000     4.000000    12.000000\n",
       "75%    1500.250000    32.000000     8.000000    18.000000\n",
       "max    2000.000000    51.000000    12.000000    31.000000"
      ]
     },
     "execution_count": 55,
     "metadata": {},
     "output_type": "execute_result"
    }
   ],
   "source": [
    "# Sanity test for daily number added\n",
    "issues_df_with_daily_number.describe()"
   ]
  },
  {
   "cell_type": "code",
   "execution_count": 56,
   "metadata": {
    "collapsed": false
   },
   "outputs": [],
   "source": [
    "# Print how many issues created Daily - DETAILED\n",
    "\n",
    "cols = ['Day Ending', 'Total Number of Issues', 'Crirical','High']\n",
    "list_daily_iisues = []\n",
    "\n",
    "\n",
    "daily_issues = []\n",
    "\n",
    "for i in range(0,260):\n",
    "    list_daily_iisues.append([daily_index[i], \n",
    "                                    (issues_df[issues_df['Created_at'].isin(pd.date_range(daily_index[i], daily_index[i+1]))]['Created_at']).count(),\n",
    "                                    (issues_df[(issues_df.Priority == 'Critical') & \n",
    "                                              (issues_df['Created_at'].isin(pd.date_range(daily_index[i], daily_index[i+1])))]['Priority']).count(),\n",
    "                                      (issues_df[(issues_df.Priority == 'High') & \n",
    "                                              (issues_df['Created_at'].isin(pd.date_range(daily_index[i], daily_index[i+1])))]['Priority']).count()])\n",
    "\n",
    "\n",
    "daily_issues = pd.DataFrame(list_daily_iisues, columns=cols)"
   ]
  },
  {
   "cell_type": "code",
   "execution_count": 74,
   "metadata": {
    "collapsed": false
   },
   "outputs": [
    {
     "data": {
      "image/png": "[encoded data removed]",
      "text/plain": [
       "<matplotlib.figure.Figure at 0xc8546d8>"
      ]
     },
     "metadata": {},
     "output_type": "display_data"
    }
   ],
   "source": [
    "#Plot in Bar Chart the total number of issues created every day \n",
    "\n",
    "daily_grouper = issues_df_with_daily_number.groupby(['Day','DetectionPhase']).DetectionPhase.count()\n",
    "\n",
    "daily_grouper_fig = daily_grouper.unstack().plot(kind='bar',stacked=True,  color=['blue','yellow', 'black', 'red', 'green', 'brown'], grid=False)"
   ]
  },
  {
   "cell_type": "code",
   "execution_count": 60,
   "metadata": {
    "collapsed": false
   },
   "outputs": [
    {
     "data": {
      "image/png": "[encoded data removed]",
      "text/plain": [
       "<matplotlib.figure.Figure at 0xce0a940>"
      ]
     },
     "metadata": {},
     "output_type": "display_data"
    }
   ],
   "source": [
    "#Plot in Bar Chart the total number of issues created every day for every phase \n",
    "\n",
    "daily_grouper = issues_df_with_daily_number.groupby(['Day','OriginationPhase']).OriginationPhase.count()\n",
    "\n",
    "daily_grouper_fig = daily_grouper.unstack().plot(kind='bar',stacked=True,  color=['blue','yellow', 'purple', 'red', 'green', 'brown'], grid=False)"
   ]
  },
  {
   "cell_type": "code",
   "execution_count": 75,
   "metadata": {
    "collapsed": false
   },
   "outputs": [
    {
     "data": {
      "image/png": "[encoded data removed]",
      "text/plain": [
       "<matplotlib.figure.Figure at 0xd1e1400>"
      ]
     },
     "metadata": {},
     "output_type": "display_data"
    }
   ],
   "source": [
    "# Plot in Bar Chart the total number of issues created every day and originated in Design phase\n",
    "\n",
    "daily_grouper = issues_df_with_daily_number.groupby(['Day',issues_df['OriginationPhase'] == 'Design']).OriginationPhase.count()\n",
    "\n",
    "daily_grouper_fig = daily_grouper.unstack().plot(kind='bar',stacked=True,  color=['blue','orange', 'purple', 'red', 'green', 'brown'], grid=False)"
   ]
  },
  {
   "cell_type": "code",
   "execution_count": 76,
   "metadata": {
    "collapsed": false
   },
   "outputs": [
    {
     "data": {
      "image/png": "[encoded data removed]",
      "text/plain": [
       "<matplotlib.figure.Figure at 0xd0f68d0>"
      ]
     },
     "metadata": {},
     "output_type": "display_data"
    }
   ],
   "source": [
    "#3. Plot in Stacked Bar Chart the total number of issues based on their priorities created for every originating phase\n",
    "\n",
    "LabelsReviewedByDate = issues_df.groupby(['OriginationPhase','Priority']).Priority.count()\n",
    "\n",
    "dateLabelsFig = LabelsReviewedByDate.unstack().plot(kind='bar',stacked=True,  color=['blue','green', 'purple', 'red', 'pink'], grid=False)\n",
    "\n"
   ]
  },
  {
   "cell_type": "code",
   "execution_count": 63,
   "metadata": {
    "collapsed": false
   },
   "outputs": [],
   "source": [
    "#Closed_at\n",
    "\n",
    "# Print how many issues closed Daily\n",
    "\n",
    "cols = ['Day Ending', 'Total Number of Issues']\n",
    "list_daily_iisues_closed = []\n",
    "\n",
    "\n",
    "daily_issues_closed = []\n",
    "\n",
    "for i in range(0, 260):\n",
    "    list_daily_iisues_closed.append([daily_index[i], (issues_df[issues_df['Closed_at'].isin(pd.date_range(daily_index[i], daily_index[i+1]))]['Closed_at']).count()])\n",
    "\n",
    "\n",
    "daily_issues_closed = pd.DataFrame(list_daily_iisues_closed, columns=cols)"
   ]
  },
  {
   "cell_type": "code",
   "execution_count": 64,
   "metadata": {
    "collapsed": true
   },
   "outputs": [],
   "source": [
    "# Create Daily index for every row\n",
    "\n",
    "list_daily_numbers_for_issues_closed = []\n",
    "\n",
    "\n",
    "for index, row in issues_df.iterrows():\n",
    "        list_daily_numbers_for_issues_closed.append(row.Closed_at.day)\n",
    "\n",
    "\n",
    "issues_df_with_daily_number_closed = issues_df\n",
    "issues_df_with_daily_number_closed['Day'] = Series(list_daily_numbers_for_issues_closed, index=issues_df.index)"
   ]
  },
  {
   "cell_type": "code",
   "execution_count": 66,
   "metadata": {
    "collapsed": false
   },
   "outputs": [],
   "source": [
    "# Print how many issues closed Daily - DETAILED\n",
    "\n",
    "cols = ['Day Ending', 'Total Number of Issues','Bug','Crirical','Completed']\n",
    "list_daily_iisues_closed = []\n",
    "\n",
    "\n",
    "daily_issues_closed = []\n",
    "\n",
    "for i in range(0,260):\n",
    "    list_daily_iisues_closed.append([daily_index[i], \n",
    "                                    (issues_df[issues_df['Closed_at'].isin(pd.date_range(daily_index[i], daily_index[i+1]))]['Created_at']).count(),\n",
    "                                    (issues_df[(issues_df.Category == 'Bug') &  \n",
    "                                              (issues_df['Closed_at'].isin(pd.date_range(daily_index[i], daily_index[i+1])))]['Category']).count(),\n",
    "                                      (issues_df[(issues_df.Priority == 'Critical)')&\n",
    "                                              (issues_df['Closed_at'].isin(pd.date_range(daily_index[i], daily_index[i+1])))]['Priority']).count(),\n",
    "                                      (issues_df[(issues_df.Status == 'Completed)') & \n",
    "                                              (issues_df['Closed_at'].isin(pd.date_range(daily_index[i], daily_index[i+1])))]['Status']).count()])\n",
    "\n",
    "\n",
    "daily_issues_closed = pd.DataFrame(list_daily_iisues_closed, columns=cols)\n",
    "\n",
    "\n",
    "\n",
    "\n"
   ]
  },
  {
   "cell_type": "code",
   "execution_count": 67,
   "metadata": {
    "collapsed": false
   },
   "outputs": [
    {
     "data": {
      "image/png": "[encoded data removed]",
      "text/plain": [
       "<matplotlib.figure.Figure at 0xded0390>"
      ]
     },
     "metadata": {},
     "output_type": "display_data"
    }
   ],
   "source": [
    "#4. Plot in Bar Chart the total number of issues closed in every day for every DetectionPhase that have labels (Category:Bug,Priority:Critical, Status:Completed)\n",
    "\n",
    "LabelsReviewedByDate_1 =  issues_df.groupby([issues_df['Category'] == 'Bug',issues_df['Priority'] == 'Critical',issues_df['Status'] == 'Completed','DetectionPhase']).DetectionPhase.count()\n",
    "\n",
    "dateLabelsFig = LabelsReviewedByDate_1.unstack().plot(kind='bar',stacked=True,  color=['blue','green', 'purple', 'red', 'yellow'], grid=False)"
   ]
  },
  {
   "cell_type": "code",
   "execution_count": 68,
   "metadata": {
    "collapsed": false
   },
   "outputs": [
    {
     "data": {
      "text/html": [
       "\n",
       "        <iframe\n",
       "            width=\"100%\"\n",
       "            height=\"500\"\n",
       "            src=\"pivottablejs.html\"\n",
       "            frameborder=\"0\"\n",
       "            allowfullscreen\n",
       "        ></iframe>\n",
       "        "
      ],
      "text/plain": [
       "<IPython.lib.display.IFrame at 0xc6c0208>"
      ]
     },
     "execution_count": 68,
     "metadata": {},
     "output_type": "execute_result"
    }
   ],
   "source": [
    "#5. Plot in Pivot Chart the total number of issue status created for every OriginationPhase (group by originating phase)\n",
    "\n",
    "%matplotlib inline\n",
    "import pandas as pd\n",
    "from pivottablejs import pivot_ui\n",
    "\n",
    "a= [ [207,'Coding'],[579,'Design'],[367,'Documentation'],[389,'Requirements'],[458,'Testing'] ]\n",
    "\n",
    "df  = pd.DataFrame(a,columns =['No of Issues','OriginationPhase'])\n",
    "\n",
    "pivot_ui(df)\n"
   ]
  },
  {
   "cell_type": "code",
   "execution_count": 69,
   "metadata": {
    "collapsed": false
   },
   "outputs": [
    {
     "data": {
      "text/html": [
       "<div>\n",
       "<table border=\"1\" class=\"dataframe\">\n",
       "  <thead>\n",
       "    <tr style=\"text-align: right;\">\n",
       "      <th></th>\n",
       "      <th></th>\n",
       "      <th>Day</th>\n",
       "      <th>Month</th>\n",
       "      <th>Week</th>\n",
       "      <th>﻿Issue #</th>\n",
       "    </tr>\n",
       "    <tr>\n",
       "      <th>Status</th>\n",
       "      <th>OriginationPhase</th>\n",
       "      <th></th>\n",
       "      <th></th>\n",
       "      <th></th>\n",
       "      <th></th>\n",
       "    </tr>\n",
       "  </thead>\n",
       "  <tbody>\n",
       "    <tr>\n",
       "      <th rowspan=\"4\" valign=\"top\">Approved</th>\n",
       "      <th>Design</th>\n",
       "      <td>16.113636</td>\n",
       "      <td>5.214286</td>\n",
       "      <td>20.071429</td>\n",
       "      <td>963.539683</td>\n",
       "    </tr>\n",
       "    <tr>\n",
       "      <th>Documentation</th>\n",
       "      <td>NaN</td>\n",
       "      <td>4.111111</td>\n",
       "      <td>15.333333</td>\n",
       "      <td>1189.888889</td>\n",
       "    </tr>\n",
       "    <tr>\n",
       "      <th>Requirements</th>\n",
       "      <td>NaN</td>\n",
       "      <td>3.600000</td>\n",
       "      <td>12.533333</td>\n",
       "      <td>1006.400000</td>\n",
       "    </tr>\n",
       "    <tr>\n",
       "      <th>Testing</th>\n",
       "      <td>NaN</td>\n",
       "      <td>4.095238</td>\n",
       "      <td>15.238095</td>\n",
       "      <td>1243.285714</td>\n",
       "    </tr>\n",
       "    <tr>\n",
       "      <th rowspan=\"5\" valign=\"top\">Completed</th>\n",
       "      <th>Coding</th>\n",
       "      <td>15.836634</td>\n",
       "      <td>5.224390</td>\n",
       "      <td>19.770732</td>\n",
       "      <td>902.482927</td>\n",
       "    </tr>\n",
       "    <tr>\n",
       "      <th>Design</th>\n",
       "      <td>12.923077</td>\n",
       "      <td>6.902439</td>\n",
       "      <td>27.756098</td>\n",
       "      <td>1213.219512</td>\n",
       "    </tr>\n",
       "    <tr>\n",
       "      <th>Documentation</th>\n",
       "      <td>11.714286</td>\n",
       "      <td>6.146341</td>\n",
       "      <td>24.341463</td>\n",
       "      <td>1459.902439</td>\n",
       "    </tr>\n",
       "    <tr>\n",
       "      <th>Requirements</th>\n",
       "      <td>20.729167</td>\n",
       "      <td>6.057692</td>\n",
       "      <td>24.442308</td>\n",
       "      <td>1114.653846</td>\n",
       "    </tr>\n",
       "    <tr>\n",
       "      <th>Testing</th>\n",
       "      <td>16.351899</td>\n",
       "      <td>5.374696</td>\n",
       "      <td>21.192214</td>\n",
       "      <td>958.394161</td>\n",
       "    </tr>\n",
       "    <tr>\n",
       "      <th rowspan=\"5\" valign=\"top\">Rejected</th>\n",
       "      <th>Coding</th>\n",
       "      <td>22.000000</td>\n",
       "      <td>10.000000</td>\n",
       "      <td>42.000000</td>\n",
       "      <td>1223.000000</td>\n",
       "    </tr>\n",
       "    <tr>\n",
       "      <th>Design</th>\n",
       "      <td>21.785714</td>\n",
       "      <td>6.611111</td>\n",
       "      <td>27.000000</td>\n",
       "      <td>1382.944444</td>\n",
       "    </tr>\n",
       "    <tr>\n",
       "      <th>Documentation</th>\n",
       "      <td>18.785714</td>\n",
       "      <td>6.238095</td>\n",
       "      <td>25.333333</td>\n",
       "      <td>1371.809524</td>\n",
       "    </tr>\n",
       "    <tr>\n",
       "      <th>Requirements</th>\n",
       "      <td>16.659091</td>\n",
       "      <td>5.575269</td>\n",
       "      <td>21.763441</td>\n",
       "      <td>943.112903</td>\n",
       "    </tr>\n",
       "    <tr>\n",
       "      <th>Testing</th>\n",
       "      <td>22.400000</td>\n",
       "      <td>7.000000</td>\n",
       "      <td>28.875000</td>\n",
       "      <td>1225.312500</td>\n",
       "    </tr>\n",
       "    <tr>\n",
       "      <th rowspan=\"2\" valign=\"top\">inProgress</th>\n",
       "      <th>Design</th>\n",
       "      <td>17.250000</td>\n",
       "      <td>5.232210</td>\n",
       "      <td>20.254682</td>\n",
       "      <td>955.838951</td>\n",
       "    </tr>\n",
       "    <tr>\n",
       "      <th>Requirements</th>\n",
       "      <td>22.214286</td>\n",
       "      <td>5.677966</td>\n",
       "      <td>22.186441</td>\n",
       "      <td>946.025424</td>\n",
       "    </tr>\n",
       "    <tr>\n",
       "      <th rowspan=\"4\" valign=\"top\">pendingReview</th>\n",
       "      <th>Design</th>\n",
       "      <td>NaN</td>\n",
       "      <td>4.000000</td>\n",
       "      <td>15.000000</td>\n",
       "      <td>1999.000000</td>\n",
       "    </tr>\n",
       "    <tr>\n",
       "      <th>Documentation</th>\n",
       "      <td>15.333333</td>\n",
       "      <td>5.202703</td>\n",
       "      <td>20.736486</td>\n",
       "      <td>988.209459</td>\n",
       "    </tr>\n",
       "    <tr>\n",
       "      <th>Requirements</th>\n",
       "      <td>NaN</td>\n",
       "      <td>6.000000</td>\n",
       "      <td>23.000000</td>\n",
       "      <td>1674.000000</td>\n",
       "    </tr>\n",
       "    <tr>\n",
       "      <th>Testing</th>\n",
       "      <td>NaN</td>\n",
       "      <td>6.000000</td>\n",
       "      <td>23.000000</td>\n",
       "      <td>1715.300000</td>\n",
       "    </tr>\n",
       "  </tbody>\n",
       "</table>\n",
       "</div>"
      ],
      "text/plain": [
       "                                      Day      Month       Week     ﻿Issue #\n",
       "Status        OriginationPhase                                              \n",
       "Approved      Design            16.113636   5.214286  20.071429   963.539683\n",
       "              Documentation           NaN   4.111111  15.333333  1189.888889\n",
       "              Requirements            NaN   3.600000  12.533333  1006.400000\n",
       "              Testing                 NaN   4.095238  15.238095  1243.285714\n",
       "Completed     Coding            15.836634   5.224390  19.770732   902.482927\n",
       "              Design            12.923077   6.902439  27.756098  1213.219512\n",
       "              Documentation     11.714286   6.146341  24.341463  1459.902439\n",
       "              Requirements      20.729167   6.057692  24.442308  1114.653846\n",
       "              Testing           16.351899   5.374696  21.192214   958.394161\n",
       "Rejected      Coding            22.000000  10.000000  42.000000  1223.000000\n",
       "              Design            21.785714   6.611111  27.000000  1382.944444\n",
       "              Documentation     18.785714   6.238095  25.333333  1371.809524\n",
       "              Requirements      16.659091   5.575269  21.763441   943.112903\n",
       "              Testing           22.400000   7.000000  28.875000  1225.312500\n",
       "inProgress    Design            17.250000   5.232210  20.254682   955.838951\n",
       "              Requirements      22.214286   5.677966  22.186441   946.025424\n",
       "pendingReview Design                  NaN   4.000000  15.000000  1999.000000\n",
       "              Documentation     15.333333   5.202703  20.736486   988.209459\n",
       "              Requirements            NaN   6.000000  23.000000  1674.000000\n",
       "              Testing                 NaN   6.000000  23.000000  1715.300000"
      ]
     },
     "execution_count": 69,
     "metadata": {},
     "output_type": "execute_result"
    }
   ],
   "source": [
    "import pandas as pd\n",
    "pd.pivot_table(issues_df, index=['Status', 'OriginationPhase'], aggfunc='mean')"
   ]
  },
  {
   "cell_type": "code",
   "execution_count": 70,
   "metadata": {
    "collapsed": false
   },
   "outputs": [],
   "source": [
    "#Plot in Control Chart for the total number of Critical issues created every week and originated in Design phase. Your Control chart must plot/show the UCL (Upper Control Limit) and LCL (Lower Control Limit)\n",
    "\n",
    "cols = ['Week Ending', 'Total Number of Issues', 'Critical & Design']\n",
    "list_weekly_iisues = []\n",
    "\n",
    "\n",
    "weekly_issues = []\n",
    "\n",
    "for i in range(1, 52):\n",
    "    list_weekly_iisues.append([weekly_index[i], \n",
    "                                    (issues_df[issues_df['Created_at'].isin(pd.date_range(weekly_index[i], weekly_index[i+1]))]['Created_at']).count(),\n",
    "                                    (issues_df[(issues_df.Priority == 'Critical') & (issues_df.OriginationPhase == 'Design') &\n",
    "                                              (issues_df['Created_at'].isin(pd.date_range(weekly_index[i], weekly_index[i+1])))]['Priority']).count()])\n",
    "\n",
    "\n",
    "weekly_issues = pd.DataFrame(list_weekly_iisues, columns=cols)"
   ]
  },
  {
   "cell_type": "code",
   "execution_count": 71,
   "metadata": {
    "collapsed": false
   },
   "outputs": [
    {
     "data": {
      "image/png": "[encoded data removed]",
      "text/plain": [
       "<IPython.core.display.Image object>"
      ]
     },
     "execution_count": 71,
     "metadata": {},
     "output_type": "execute_result"
    }
   ],
   "source": [
    "from IPython.display import Image\n",
    "Image(\"C:\\Users\\sakkala\\Documents\\chart.png\")"
   ]
  },
  {
   "cell_type": "code",
   "execution_count": null,
   "metadata": {
    "collapsed": true
   },
   "outputs": [],
   "source": []
  }
 ],
 "metadata": {
  "kernelspec": {
   "display_name": "Python 2",
   "language": "python",
   "name": "python2"
  },
  "language_info": {
   "codemirror_mode": {
    "name": "ipython",
    "version": 2
   },
   "file_extension": ".py",
   "mimetype": "text/x-python",
   "name": "python",
   "nbconvert_exporter": "python",
   "pygments_lexer": "ipython2",
   "version": "2.7.11"
  }
 },
 "nbformat": 4,
 "nbformat_minor": 0
}
